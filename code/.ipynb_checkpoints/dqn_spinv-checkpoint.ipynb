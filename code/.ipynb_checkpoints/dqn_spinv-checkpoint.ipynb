{
 "cells": [
  {
   "cell_type": "markdown",
   "metadata": {},
   "source": [
    "### Deep Q-Network for Space Invader\n",
    "\n",
    "#### Function Approximation and TD-Learning using Deep Neural Networks\n"
   ]
  },
  {
   "cell_type": "code",
   "execution_count": 2,
   "metadata": {},
   "outputs": [],
   "source": [
    "import numpy as np\n",
    "import time\n",
    "import random\n",
    "import matplotlib.pyplot as plt\n",
    "import seaborn as sns\n",
    "sns.set()"
   ]
  },
  {
   "cell_type": "code",
   "execution_count": 3,
   "metadata": {},
   "outputs": [],
   "source": [
    "import torch as T\n",
    "import torch.nn as nn\n",
    "import torch.nn.functional as F\n",
    "import torch.optim as optim"
   ]
  },
  {
   "cell_type": "code",
   "execution_count": 4,
   "metadata": {},
   "outputs": [],
   "source": [
    "class DQNet(nn.Module):\n",
    "    def __init__(self,alpha):\n",
    "        super(DQNet, self).__init__()\n",
    "        self.conv1=nn.Conv2d(1,32,8, stride=4, padding=1)\n",
    "        self.conv2=nn.Conv2d(32,64,4, stride=2)\n",
    "        self.conv3=nn.Conv2d(64,128,3)\n",
    "        self.fc1=nn.Linear(128*19*8, 512)\n",
    "        self.fc2=nn.Linear(512,6)\n",
    "        \n",
    "        self.optimizer= optim.RMSprop(self.parameters(), lr=alpha)\n",
    "        self.loss=nn.MSELoss()\n",
    "        self.device = T.device(\"cuda\" if T.cuda.is_available() else \"cpu\")\n",
    "        self.to(self.device)\n",
    "        \n",
    "    def forward(self, observation):\n",
    "        observation = T.Tensor(observation).to(self.device)\n",
    "        observation = observation.view(-1,1,185,95)\n",
    "        observation = F.relu(self.conv1(observation))\n",
    "        observation = F.relu(self.conv2(observation))\n",
    "        observation = F.relu(self.conv3(observation))\n",
    "        observation = observation.view(-1,128*19*8)\n",
    "        observation = F.relu(self.fc1(observation))\n",
    "        \n",
    "        actions = self.fc2(observation)\n",
    "        return actions       \n",
    "        "
   ]
  },
  {
   "cell_type": "code",
   "execution_count": 7,
   "metadata": {},
   "outputs": [],
   "source": [
    "class Agent(object):\n",
    "    def __init__(self,gamma,epsilon, alpha,\n",
    "                 maxMemorySize, epsEnd=0.05, \n",
    "                 replace=10000, actionSpace=[0,1,2,3,4,5]):\n",
    "        self.GAMMA=gamma\n",
    "        self.EPSILON= epsilon\n",
    "        self.EPS_END=eps_end\n",
    "        self.actionSpace = actionSpace\n",
    "        self.memSize = maxMemorySize\n",
    "        self.steps = 0\n",
    "        self.learn_step_counter=0\n",
    "        self.memory=[]  #appending lists are efficient than stacking np.arrays\n",
    "                        #convert later to np.array for computation/learning\n",
    "        self.memCntr=0\n",
    "        self.replace_target_cnt = replace\n",
    "        self.Q_eval= DeepQNetwork(alpha)\n",
    "        self.Q_next= DeepQNetwork(alpha)\n",
    "        \n",
    "    def storeTransition(self, state, action, reward, state_):\n",
    "        if self.memCntr < self.memSize:\n",
    "            self.memory.append([state,action,reward,state_])\n",
    "        else:\n",
    "            self.memory[self.memCntr%self.memSize] = [state,action,reward,state_]\n",
    "        self.memCntr+=1\n",
    "        \n",
    "    def chooseAction(self,observation):\n",
    "        rand = np.random.random()\n",
    "        actions = self.Q_eval.forward(observation)\n",
    "        if ran < 1- self.EPSILON:\n",
    "            action=T.argmax(actions[1]).item()\n",
    "        else:\n",
    "            action = np.random.choice(self.actionSpace)\n",
    "        self.steps+=1\n",
    "        return action\n",
    "    \n",
    "    #code learning of the agent\n",
    "    def learn(self, batch_size):\n",
    "        pass\n",
    "        "
   ]
  },
  {
   "cell_type": "code",
   "execution_count": null,
   "metadata": {},
   "outputs": [],
   "source": []
  }
 ],
 "metadata": {
  "kernelspec": {
   "display_name": "Python 3",
   "language": "python",
   "name": "python3"
  },
  "language_info": {
   "codemirror_mode": {
    "name": "ipython",
    "version": 3
   },
   "file_extension": ".py",
   "mimetype": "text/x-python",
   "name": "python",
   "nbconvert_exporter": "python",
   "pygments_lexer": "ipython3",
   "version": "3.7.5"
  }
 },
 "nbformat": 4,
 "nbformat_minor": 2
}
