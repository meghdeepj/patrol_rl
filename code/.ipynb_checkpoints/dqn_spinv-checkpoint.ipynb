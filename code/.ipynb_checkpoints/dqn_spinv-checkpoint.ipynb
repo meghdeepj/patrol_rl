{
 "cells": [
  {
   "cell_type": "markdown",
   "metadata": {},
   "source": [
    "### Deep Q-Network for Space Invader\n",
    "\n",
    "#### Function Approximation and TD-Learning using Deep Neural Networks\n"
   ]
  },
  {
   "cell_type": "code",
   "execution_count": 1,
   "metadata": {},
   "outputs": [],
   "source": [
    "import numpy as np\n",
    "import time\n",
    "import random\n",
    "import matplotlib.pyplot as plt\n",
    "import seaborn as sns\n",
    "sns.set()"
   ]
  },
  {
   "cell_type": "code",
   "execution_count": 2,
   "metadata": {},
   "outputs": [],
   "source": [
    "import torch as T\n",
    "import torch.nn as nn\n",
    "import torch.nn.functional as F\n",
    "import torch.optim as optim"
   ]
  },
  {
   "cell_type": "code",
   "execution_count": 17,
   "metadata": {},
   "outputs": [],
   "source": [
    "class DQNet(nn.Module):\n",
    "    def __init__(self,alpha):\n",
    "        super(DQNet, self).__init__()\n",
    "        self.conv1=nn.Conv2d(1,32,8, stride=4, padding=1)\n",
    "        self.conv2=nn.Conv2d(32,64,4, stride=2)\n",
    "        self.conv3=nn.Conv2d(64,128,3)\n",
    "        self.fc1=nn.Linear(128*19*8, 512)\n",
    "        self.fc2=nn.Linear(512,6)\n",
    "        \n",
    "        self.optimizer= optim.RMSprop(self.parameters(), lr=alpha)\n",
    "        self.loss=nn.MSELoss()\n",
    "        self.device = T.device(\"cuda\" if T.cuda.is_available() else \"cpu\")\n",
    "        self.to(self.device)\n",
    "        \n",
    "    def forward(self, observation):\n",
    "        observation = T.Tensor(observation).to(self.device)\n",
    "        observation = \n",
    "        \n",
    "        "
   ]
  }
 ],
 "metadata": {
  "kernelspec": {
   "display_name": "Python 3",
   "language": "python",
   "name": "python3"
  },
  "language_info": {
   "codemirror_mode": {
    "name": "ipython",
    "version": 3
   },
   "file_extension": ".py",
   "mimetype": "text/x-python",
   "name": "python",
   "nbconvert_exporter": "python",
   "pygments_lexer": "ipython3",
   "version": "3.7.5"
  }
 },
 "nbformat": 4,
 "nbformat_minor": 2
}
